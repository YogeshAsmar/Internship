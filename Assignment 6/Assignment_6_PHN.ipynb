{
 "cells": [
  {
   "cell_type": "code",
   "execution_count": 11,
   "id": "5f7caf84",
   "metadata": {},
   "outputs": [],
   "source": [
    "import pandas as pd\n",
    "from sklearn.linear_model import LinearRegression\n",
    "from sklearn.model_selection import train_test_split\n",
    "from sklearn.metrics import accuracy_score\n",
    "\n"
   ]
  },
  {
   "cell_type": "code",
   "execution_count": 12,
   "id": "091d343a",
   "metadata": {},
   "outputs": [],
   "source": [
    "# Load the dataset from the CSV file\n",
    "data = pd.read_csv(\"C://Users//YOGESH ASMAR//Desktop//Data Science//practice//IBM Attrition Data.csv\")\n"
   ]
  },
  {
   "cell_type": "code",
   "execution_count": 13,
   "id": "7ebedf49",
   "metadata": {},
   "outputs": [],
   "source": [
    "# Extract the input variables\n",
    "input_variables = data[['Age', 'Education', 'YearsAtCompany']]\n",
    "\n"
   ]
  },
  {
   "cell_type": "code",
   "execution_count": 14,
   "id": "7b94d5e2",
   "metadata": {},
   "outputs": [],
   "source": [
    "# Encode the target variable\n",
    "target_variable = data['Attrition']\n",
    "target_variable_encoded = target_variable.map({'Yes': 1, 'No': 0})  # Binary encoding\n",
    "\n"
   ]
  },
  {
   "cell_type": "code",
   "execution_count": 15,
   "id": "279be8a4",
   "metadata": {},
   "outputs": [],
   "source": [
    "# Data Pre-processing\n",
    "# No pre-processing steps are required in this example\n",
    "\n",
    "# Split the dataset into training and validation sets\n",
    "X_train, X_val, y_train, y_val = train_test_split(input_variables, target_variable_encoded, test_size=0.2, random_state=42)\n",
    "\n"
   ]
  },
  {
   "cell_type": "code",
   "execution_count": 16,
   "id": "8aab23ed",
   "metadata": {},
   "outputs": [],
   "source": [
    "# Model Training\n",
    "# Create an instance of the Linear Regression model\n",
    "model = LinearRegression()\n",
    "\n"
   ]
  },
  {
   "cell_type": "code",
   "execution_count": 17,
   "id": "5e1364e6",
   "metadata": {},
   "outputs": [
    {
     "data": {
      "text/plain": [
       "LinearRegression()"
      ]
     },
     "execution_count": 17,
     "metadata": {},
     "output_type": "execute_result"
    }
   ],
   "source": [
    "# Fit the model to the training data\n",
    "model.fit(X_train, y_train)\n",
    "\n"
   ]
  },
  {
   "cell_type": "code",
   "execution_count": 18,
   "id": "1b2774af",
   "metadata": {},
   "outputs": [],
   "source": [
    "# Model Evaluation and Validation\n",
    "# Predict on the validation set\n",
    "y_pred = model.predict(X_val)\n",
    "y_pred_rounded = y_pred.round().astype(int)  # Round the predictions to the nearest integer (0 or 1)\n",
    "\n"
   ]
  },
  {
   "cell_type": "code",
   "execution_count": 19,
   "id": "7b510797",
   "metadata": {},
   "outputs": [
    {
     "name": "stdout",
     "output_type": "stream",
     "text": [
      "Accuracy: 0.8673469387755102\n"
     ]
    }
   ],
   "source": [
    "# Calculate the accuracy\n",
    "accuracy = accuracy_score(y_val, y_pred_rounded)\n",
    "\n",
    "print(\"Accuracy:\", accuracy)\n",
    "\n"
   ]
  },
  {
   "cell_type": "code",
   "execution_count": 20,
   "id": "7933e9dd",
   "metadata": {},
   "outputs": [],
   "source": [
    "# Model Deployment and Prediction\n",
    "# Given new input values, we can use the trained model to predict the target variable\n",
    "new_input = [[35, 4, 7]]  # Example new input values\n",
    "\n"
   ]
  },
  {
   "cell_type": "code",
   "execution_count": 21,
   "id": "1aeee434",
   "metadata": {},
   "outputs": [
    {
     "name": "stderr",
     "output_type": "stream",
     "text": [
      "C:\\anaconda python\\lib\\site-packages\\sklearn\\base.py:450: UserWarning: X does not have valid feature names, but LinearRegression was fitted with feature names\n",
      "  warnings.warn(\n"
     ]
    }
   ],
   "source": [
    "predicted_output = model.predict(new_input)\n",
    "predicted_output_rounded = predicted_output.round().astype(int)  # Round the prediction to the nearest integer (0 or 1)\n",
    "\n",
    "\n"
   ]
  },
  {
   "cell_type": "code",
   "execution_count": 22,
   "id": "05176b9a",
   "metadata": {},
   "outputs": [
    {
     "name": "stdout",
     "output_type": "stream",
     "text": [
      "Predicted output: [0]\n"
     ]
    }
   ],
   "source": [
    "print(\"Predicted output:\", predicted_output_rounded)"
   ]
  },
  {
   "cell_type": "code",
   "execution_count": null,
   "id": "8be0006f",
   "metadata": {},
   "outputs": [],
   "source": []
  },
  {
   "cell_type": "code",
   "execution_count": null,
   "id": "c05734ef",
   "metadata": {},
   "outputs": [],
   "source": []
  },
  {
   "cell_type": "code",
   "execution_count": null,
   "id": "f2180751",
   "metadata": {},
   "outputs": [],
   "source": []
  }
 ],
 "metadata": {
  "kernelspec": {
   "display_name": "Python 3 (ipykernel)",
   "language": "python",
   "name": "python3"
  },
  "language_info": {
   "codemirror_mode": {
    "name": "ipython",
    "version": 3
   },
   "file_extension": ".py",
   "mimetype": "text/x-python",
   "name": "python",
   "nbconvert_exporter": "python",
   "pygments_lexer": "ipython3",
   "version": "3.9.12"
  }
 },
 "nbformat": 4,
 "nbformat_minor": 5
}
