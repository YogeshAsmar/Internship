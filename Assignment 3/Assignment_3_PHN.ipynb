{
 "cells": [
  {
   "cell_type": "code",
   "execution_count": 1,
   "id": "19ec9563",
   "metadata": {},
   "outputs": [],
   "source": [
    "from openpyxl import Workbook "
   ]
  },
  {
   "cell_type": "code",
   "execution_count": 2,
   "id": "a7b21832",
   "metadata": {},
   "outputs": [],
   "source": [
    "wb = Workbook()"
   ]
  },
  {
   "cell_type": "code",
   "execution_count": 3,
   "id": "c1acda52",
   "metadata": {},
   "outputs": [],
   "source": [
    "ws = wb.active"
   ]
  },
  {
   "cell_type": "code",
   "execution_count": 4,
   "id": "9e9ff7c7",
   "metadata": {},
   "outputs": [],
   "source": [
    "Fruits = [[\"Fruit\",\"Quantity\"],\n",
    "          [\"Apple\",15],[\"Pineapple\",4],[\"Banana\",6],[\"Orange\",12],\n",
    "          [\"Banana\",8],[\"Orange\",12],[\"Apple\",3]]\n"
   ]
  },
  {
   "cell_type": "code",
   "execution_count": 5,
   "id": "81dfc7b9",
   "metadata": {},
   "outputs": [],
   "source": [
    "for row in Fruits :\n",
    "    ws.append(row)"
   ]
  },
  {
   "cell_type": "code",
   "execution_count": 6,
   "id": "dfe3298a",
   "metadata": {},
   "outputs": [],
   "source": [
    "wb.save(\"C:\\\\Users\\\\YOGESH ASMAR\\\\Desktop\\\\Internship\\\\Assignment 3\\\\Fruits.xlsx\")"
   ]
  },
  {
   "cell_type": "code",
   "execution_count": null,
   "id": "eb008b4f",
   "metadata": {},
   "outputs": [],
   "source": [
    "#Iterate through Rows to Compute Aggregate Value\n",
    "#We then iterate through each row of the worksheet to compute the aggregate sum of each fruit in the sheet.\n",
    "#We will create a dictionary to store the sum of each fruit. We will then add up the values of each fruit in the dictionary."
   ]
  },
  {
   "cell_type": "code",
   "execution_count": 15,
   "id": "04b3d246",
   "metadata": {},
   "outputs": [],
   "source": [
    "fruit_sum = {}\n",
    "for row in ws.iter_rows(min_row=2, values_only=True):\n",
    "    fruit_name = row[0]\n",
    "    fruit_quantity = row[1]\n",
    "    if fruit_name in fruit_sum:\n",
    "        fruit_sum[fruit_name] += fruit_quantity\n",
    "    else:\n",
    "        fruit_sum[fruit_name] = fruit_quantity\n"
   ]
  },
  {
   "cell_type": "code",
   "execution_count": null,
   "id": "700757a5",
   "metadata": {},
   "outputs": [],
   "source": [
    "#Write Computed Value to New Excel File\n",
    "#Finally, we will create a new Excel file and write the computed sum for each fruit to the Excel file. \n",
    "#We will iterate through the dictionary and write each fruit name and its corresponding sum to the worksheet."
   ]
  },
  {
   "cell_type": "code",
   "execution_count": 16,
   "id": "8d8009aa",
   "metadata": {},
   "outputs": [],
   "source": [
    "Out_wb = Workbook()\n",
    "output_worksheet = Out_wb.active\n",
    "output_worksheet.title = \"Fruit_Summary\"\n",
    "output_worksheet['A1'] = \"Fruit\"\n",
    "output_worksheet['B1'] = \"Sum\"\n",
    "\n",
    "row = 2\n",
    "for fruit, sum in fruit_sum.items():\n",
    "    output_worksheet.cell(row=row, column=1).value = fruit\n",
    "    output_worksheet.cell(row=row, column=2).value = sum\n",
    "    row += 1\n"
   ]
  },
  {
   "cell_type": "code",
   "execution_count": 17,
   "id": "eb4344e3",
   "metadata": {},
   "outputs": [],
   "source": [
    "# Save the file\n",
    "Out_wb.save(\"C:\\\\Users\\\\YOGESH ASMAR\\\\Desktop\\\\Internship\\\\Assignment 3\\\\Fruits_sum.xlsx\")"
   ]
  },
  {
   "cell_type": "code",
   "execution_count": null,
   "id": "df60ba16",
   "metadata": {},
   "outputs": [],
   "source": []
  },
  {
   "cell_type": "code",
   "execution_count": null,
   "id": "726af53f",
   "metadata": {},
   "outputs": [],
   "source": []
  },
  {
   "cell_type": "code",
   "execution_count": null,
   "id": "5d1f1bf0",
   "metadata": {},
   "outputs": [],
   "source": []
  },
  {
   "cell_type": "code",
   "execution_count": null,
   "id": "7c0c1887",
   "metadata": {},
   "outputs": [],
   "source": []
  },
  {
   "cell_type": "code",
   "execution_count": null,
   "id": "36fc79f5",
   "metadata": {},
   "outputs": [],
   "source": []
  }
 ],
 "metadata": {
  "kernelspec": {
   "display_name": "Python 3 (ipykernel)",
   "language": "python",
   "name": "python3"
  },
  "language_info": {
   "codemirror_mode": {
    "name": "ipython",
    "version": 3
   },
   "file_extension": ".py",
   "mimetype": "text/x-python",
   "name": "python",
   "nbconvert_exporter": "python",
   "pygments_lexer": "ipython3",
   "version": "3.9.12"
  }
 },
 "nbformat": 4,
 "nbformat_minor": 5
}
